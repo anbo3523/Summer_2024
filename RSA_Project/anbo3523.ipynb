{
 "cells": [
  {
   "cell_type": "markdown",
   "metadata": {},
   "source": [
    "## RSA - The Project"
   ]
  },
  {
   "cell_type": "markdown",
   "metadata": {},
   "source": [
    "Name:  Angela Booth\n",
    "\n",
    "Moodle Email: anbo3523@colorado.edu\n",
    "\n",
    "Name your file \"cuidentikey\".ipynb  This means YOUR identikey. \n",
    "\n",
    "**Do NOT delete instructions or pre-existing comments in the code. Removal will trigger significat point reductions** \n",
    "\n",
    "**Required: Add your own comments as if the instructions and comments are not visible - this allows you to customize your project after the course**\n",
    "\n"
   ]
  },
  {
   "cell_type": "markdown",
   "metadata": {},
   "source": [
    "**The Prompt:**\n",
    "\n",
    "Your boss has been long intrigued by the RSA algorthim and has asked you to create a turorial RSA walk through and exploration project to help the boss and others in the company to understand the basic structures and mathematics of an RSA implementation.\n",
    "\n",
    "Your project will:\n",
    "1. Implement the algorithm for breaking codes with a given basic structure. \n",
    "2. Explain the steps in an \"Inverview Grading Style\" with Jupyter Lab Text blocks demostrating and explaining the function as you go. \n",
    "3. These demonstrations, explanations, and code comments must demonstrate that you understand the code and what it is doing. \n",
    "4. After the basic implementation you will rewrite the code completely with your own improvements, or copy the basic code package and add new features. This will be your custom feature.\n",
    "5. IMPORTANT - in the first implementation you will keep all instructions, given comments in the code, and use the variable names and set up as given. For your custom feature you may remove these and make the code \"your own.\" ALL CHANGE must be explained in text - why did you change/make improvements? We should be able to see how you adapted the orginal code.\n",
    "\n",
    "\n",
    "\n",
    "\n"
   ]
  },
  {
   "cell_type": "markdown",
   "metadata": {},
   "source": [
    "<hr />\n",
    "\n",
    "# Table of Contents/Grading Structure\n",
    "\n",
    "#### 0. Bonus +/- Overall structure, code comments, and following directions. (Score may go up or down if overall structure or format is excellent or incomplete). Not extra credit.\n",
    "\n",
    "## 1. Introduction to your RSA Project (5 points)\n",
    "\n",
    "\n",
    "## 2. Code Package: FME    (10 points)\n",
    "        * Convert_Binary_String \n",
    "        * FME\n",
    "\n",
    "## 3. Code Package: Key Generation using Euclidean Algorithms    (10 points)\n",
    "        * Euclidean Algorithm\n",
    "        * Extended EA\n",
    "        * Find_Public_Key_e\n",
    "        * Find_Private_Key_d\n",
    "\n",
    "## 4. Code Package: En/Decode Your Messages  (10 points)\n",
    "        * Convert_Text\n",
    "        * Convert_Num\n",
    "        * Encode\n",
    "        * Decode\n",
    "\n",
    "\n",
    "## 5. Create a Code Demo(10 points)\n",
    "\n",
    "## 6. Code Exchange Results  (5 points)\n",
    "\n",
    "## 7. Write a Narrative (25 points)\n",
    "\n",
    "## 8. Code Breaking:  (10 points)\n",
    "\n",
    "## 9. Code Breaking: Complete Examples  (5 points)\n",
    "\n",
    "## 10. Custom code feature / Advanced options  (10 points) \n",
    "\n",
    "\n",
    "    \n"
   ]
  },
  {
   "cell_type": "markdown",
   "metadata": {},
   "source": []
  },
  {
   "cell_type": "markdown",
   "metadata": {},
   "source": []
  },
  {
   "cell_type": "markdown",
   "metadata": {},
   "source": []
  },
  {
   "cell_type": "markdown",
   "metadata": {},
   "source": [
    "\n",
    "\n",
    "\n",
    "\n",
    "\n"
   ]
  },
  {
   "cell_type": "markdown",
   "metadata": {},
   "source": [
    "## 1. Introduction to your RSA Project (5 points) \n",
    "<span style=\"color:DarkRed\">Write an introduction/overview here. This should be something someone who has never seen your project could read to understand what is coming. Give a broad summarized overview of RSA components, discuss your custom feature a bit, and  include some preliminary narrative regarding your process. Much of this will be fleshed out in your narrative below, so remember to simply summarize details. This should be a robust paragraph or two of 200 - 300 words.</span>\n"
   ]
  },
  {
   "cell_type": "markdown",
   "metadata": {},
   "source": [
    "In this project, you will be guided through the entire process of RSA (Rivest, Shamir, and Adleman) encryption and decryption. In the beginning of this project, we will be outlining all the functions required to make this algorithm work. The functions we will be going over include the following: Convert_Binary_String, FME, Euclidean_Alg, EEA, Find_Public_Key_e, Find_Private_Key_d, Convert_Text, Convert_Num, Encode, and Decode. In each of the functions, there will be notes that go over what their purpose is and how they work to get the values we need. We will then generate our own public and private keys using the functions we created. Additionally, we will demonstrate the use of these functions by encoding our own message with our own prime numbers by going through each function we use, why, and the outputs that we receive. Then, we continue with the decoding process and demonstrate how we use the private key to decode our messages. We will also show additional examples of encoding and decoding by using examples provided by our peers. Finally, you will see how we can break the code using brute force and just the public key. You will find that smaller numbers will be quite easy to break, proving the importance of having a long key.  "
   ]
  },
  {
   "cell_type": "markdown",
   "metadata": {},
   "source": [
    "## 2. Code Package FME (10 points)\n",
    "\n",
    "<span style=\"color:DarkRed\"> \n",
    "\n",
    "FME is an essential function for RSA to pre-process the messages before the messages are encoded and decoded by the RSA algorithm. \n",
    "You have 3 choices of algorithms for this:\n",
    "* The Rosen Book FME - which will need Convert_Binary_String below.\n",
    "* Sriram's FME from the video.\n",
    "* Your own \"Square and Mod\" function defined with a look up table.\n",
    "    \n",
    "*Do not copy code from the internet - it is recognized immediately by our software. In particular, use of bitshifting is forbidden in the first part of the project but may be explored in the custom feature.*\n",
    "</span>\n",
    "\n"
   ]
  },
  {
   "cell_type": "code",
   "execution_count": 71,
   "metadata": {},
   "outputs": [],
   "source": [
    "def Convert_Binary_String(_int):\n",
    "    \"\"\"\n",
    "    Here, you need to define a function that converts an integer to\n",
    "    a string of its binary expansion. You may or may not need this function. \n",
    "    \n",
    "    For example:\n",
    "    _int = 345\n",
    "    bits = 101011001\n",
    "    \"\"\"\n",
    "    #This function converts integers into binary expansion by dividing the integer by 2 and then taking the remainder and adding that to a binary string.\n",
    "    #The remainder on each iteration represents the binary digits.\n",
    "    #Here, we return 0 if the integer is 0. This is because the integer 0 in binary is equal to 0.\n",
    "    if _int == 0:\n",
    "        return \"0\"\n",
    "    binary_str = \"\"\n",
    "    #We are creating a loop here that will run until the integer becomes 0.\n",
    "    while _int > 0:\n",
    "        remainder = _int % 2 #Here, we are obtaining the remainder of the integer when moded with 2. This will give us a 0 or 1.\n",
    "        binary_str = str(remainder) + binary_str #Take the remainder we received above and add it to the beginning of binary_str.\n",
    "        _int = _int //2 # We need to update the integer to then continue finding the next binary digit.\n",
    "    return binary_str #Once _int = 0, we have our complete binary expansion for the integer\n",
    "#return bin(_int)[2:] this would be a shorthand way to take int to binary"
   ]
  },
  {
   "cell_type": "code",
   "execution_count": 3,
   "metadata": {
    "tags": []
   },
   "outputs": [],
   "source": [
    "def FME(b, n, m):\n",
    "    \"\"\"\n",
    "    1. Using the fast modular exponentiation algorithm,\n",
    "    the below function should return b**n mod m.\n",
    "    As described on page 254. (however, you may input the exponent and \n",
    "    then convert it to a string - the book version imports the binary expansion)  \n",
    "    2. You should use the function defined above Convert_Binary_String() if using the book algorithm.\n",
    "    3. For this block you MUST use one of the 3 methods above.\n",
    "    4. Any method using bit-shifting or copied from the internet (even changing varibale names) will result in a 0.\n",
    "    \n",
    "    **If you are completely stuck, you may use pow() with a 10pt penalty.**\n",
    "\n",
    "    You may use the function you developed in your Mastery Workbook - but be sure it is your own\n",
    "    work, commented, etc. and change inputs as needed.\n",
    "    \"\"\"  \n",
    "    #This is the Fast Modular Exponentiation Algorithm\n",
    "    #I am creating an algorithm that uses the method outlined in the book to calculate the mod of a number that includes a base and exponent (b^e)\n",
    "    #In Discrete Mathematics and Its Applications book: ALGORITHM 5 Modular Exponentiation\n",
    "    #b = base, n = exponent, and m = modulus\n",
    "    #Through our Mastery workbook, we learned that FME is a lot more efficient than non-FME\n",
    "    #Below, you will see the FME vs non-FME times that I calculated:\n",
    "    #Varying n, fixed a:\n",
    "    #n = 1000: NOT_FME time =  0.000004s, FME time = 0.000003s\n",
    "    #n = 10000: NOT_FME time =  0.000032s, FME time = 0.000002s\n",
    "    #n = 100000: NOT_FME time =  0.000447s, FME time = 0.000003s\n",
    "    #n = 1000000: NOT_FME time =  0.006290s, FME time = 0.000004s\n",
    "\n",
    "    #Varying a, fixed n:\n",
    "    #a = 10: NOT_FME time = 0.000017s, FME time = 0.000002s\n",
    "    #a = 100: NOT_FME time = 0.000014s, FME time = 0.000002s\n",
    "    #a = 1000: NOT_FME time = 0.000053s, FME time = 0.000002s\n",
    "    #a = 10000: NOT_FME time = 0.000043s, FME time = 0.000002s\n",
    "    result = 1\n",
    "    \n",
    "    while n > 0:\n",
    "        #If bit of exponent is odd, multiply base with result. We do this to isolate the power of the base corresponding to the bits that are 1\n",
    "        #ex: 5^13 mod 17. 13 in binary is 1101. (Starting from the right) 1 = include 5^1, 0 = exlude 5^2, 1 = include 5^4, 1 = include 5^8.\n",
    "        if (n % 2) == 1: #Checking if the mod of the number is 1, if so, it must be 1. 0 would return a mod of 0\n",
    "            result = (result * b) % m\n",
    "        \n",
    "        #Square the base\n",
    "        b = (b * b) % m\n",
    "        \n",
    "        #Divide the exponent by 2\n",
    "        n = n // 2\n",
    "    #Once e = 0, we will return the value, which is the answer of the b^e % m     \n",
    "    return result"
   ]
  },
  {
   "cell_type": "markdown",
   "metadata": {},
   "source": [
    "## 3. Code Package: Key Generation using Euclidean Algorithms    (10 points)\n",
    "\n",
    "<span style=\"color:DarkRed\">\n",
    "\n",
    "The functions below will generate the public and private key pairs which will then be used to create a ciphertext using the public key and then decode the same using the private key. </span>\n",
    "\n"
   ]
  },
  {
   "cell_type": "code",
   "execution_count": 28,
   "metadata": {},
   "outputs": [],
   "source": [
    "def Euclidean_Alg(a, b):\n",
    "    \"\"\"\n",
    "    1. Calculate the Greatest Common Divisor of a and b.\n",
    "    \n",
    "    2. This version should have only positive inputs and outputs.\n",
    "    \n",
    "    3. The function must return a single integer ('x') which is\n",
    "    the gcd of a and b.\n",
    "    \n",
    "    \n",
    "    \"\"\"\n",
    "    #Here we are implementing the Euclidean Algorithm.\n",
    "    #In order to find the GCD, we will want to continously take the mod of the two integers (a and b)\n",
    "    #until we reach a mod of 0\n",
    "    #This loop works by taking the mod of a and b, storing it in b, and taking b and storing that in a.\n",
    "    #Then when the loop runs again, the process continues until we reach b (the mod) = 0\n",
    "    #We can then return a which will be the GCD\n",
    "    #We will be using this later to find whether two values are coprime (gcd of a and b = 1)\n",
    "    #inspired by pseudocode on pg 269 of the \"Discrete Mathemetics and It's Applications\" book by Kenneth Rosen\n",
    "    while b != 0:\n",
    "        a, b = b, a % b \n",
    "    return a"
   ]
  },
  {
   "cell_type": "code",
   "execution_count": 29,
   "metadata": {},
   "outputs": [],
   "source": [
    "def EEA(a, b):\n",
    "    \"\"\"\n",
    "    This is a helper function utilizing Bezout's theorem as discussed in your MW.\n",
    "    You will follow these same steps closely to construct this function.\n",
    "    \n",
    "    This version will return both: \n",
    "    1. the GCD of a, b \n",
    "    2. Bezout's coefficients in any form you wish. We recommend returning your coefficients as a list or a tuple. \n",
    "    HINT: return GCD, (s1, t1)\n",
    "    \n",
    "    * Ensure that your inputs are positive integers. Implement these kinds of checks.\n",
    "    * It might also behoove you to consider reassigning a, b to new coefficients depending on which is greater.\n",
    "    \n",
    "    \"\"\"\n",
    "    #This function uses Extended Euclidean Algorithm to compute the GCD of two integers, a and b.\n",
    "    #It also finds the Bezout coefficient s and t.\n",
    "    # After we comeplete the algorithm, the value for s1 becomes our 'd' in our private key.\n",
    "    \n",
    "    #Initial values representing (s1, t1) and (s2, t2)\n",
    "    s1, t1 = 1, 0 #represents coefficient for 'a'\n",
    "    s2, t2 = 0, 1 #represents coefficient for 'b'\n",
    "    \n",
    "    #initial values of m and n\n",
    "    m, n = a, b\n",
    "    \n",
    "    #While loop that will run until n becomes 0\n",
    "    while n != 0:\n",
    "        #k is the remainder of the division of m and n\n",
    "        k = m % n\n",
    "        #q is the quotient of the division of m and n\n",
    "        q = m // n\n",
    "        \n",
    "        #update m and n with values we got above\n",
    "        m, n = n, k\n",
    "        \n",
    "        #update s1, t1, s2, t2 (coefficients)\n",
    "        new_s1, new_t1 = s2, t2\n",
    "        new_s2, new_t2 = s1 - q * s2, t1 - q * t2\n",
    "        \n",
    "        #Assign new values to s1, t1, s2, t2\n",
    "        s1, t1, s2, t2 = new_s1, new_t1, new_s2, new_t2\n",
    "        \n",
    "    #The final values of s1 and t1 are the Bezout coefficients\n",
    "    #The values of m after the loop is the gcd of a and b\n",
    "    return m, s1, t1\n",
    "        \n",
    "    \n",
    "    "
   ]
  },
  {
   "cell_type": "code",
   "execution_count": 25,
   "metadata": {},
   "outputs": [],
   "source": [
    "def Find_Public_Key_e(p, q):\n",
    "    \"\"\"\n",
    "    Implement this function such that\n",
    "    it takes 2 primes p and q.\n",
    "    \n",
    "    Use the gcd function that you have \n",
    "    defined before.\n",
    "    \n",
    "    The function should return 2 elements as follows:\n",
    "    public key: n\n",
    "    public key: e\n",
    "    \n",
    "    HINT: this function will run a loop to find e such \n",
    "    that e is relatively prime to (p - 1) (q - 1) \n",
    "    and not equal to p or q.\n",
    "    \n",
    "    NOTE: There are a number of ways to implement this key feature. \n",
    "    You, as the coder, can choose to how to acheive this goal.\n",
    "    \n",
    "    \"\"\"\n",
    "    #This function calculates the public key values which include n and e.\n",
    "    #n is calculated by taking the product of the two prime numbers\n",
    "    #e is calculated by first calculating phi (Euler's function) and then calling our Euclidean_Alg function which will provide us with our e\n",
    "    \n",
    "    n= p * q #Product of two prime numbers\n",
    "    phi = (p - 1) * (q - 1) #Euler's function\n",
    "    \n",
    "    #Looping to find e such that 1 < e < phi and gcd(e, phi) = 1\n",
    "    #Just as we did in our MW, we start at 2 and compare the value to phi, once we get a GCD of 1, we return those two values.\n",
    "    for e in range(2, phi):\n",
    "        if Euclidean_Alg(e, phi) == 1: #This finds whether our e and phi values are coprime.\n",
    "            return n, e"
   ]
  },
  {
   "cell_type": "code",
   "execution_count": 26,
   "metadata": {},
   "outputs": [],
   "source": [
    "def Find_Private_Key_d(e, p, q):\n",
    "    \"\"\"\n",
    "    Implement this function to find the decryption exponent d, \n",
    "    such that d is the modular inverse of e. \n",
    "    \n",
    "    This will use the Extended Euclidean Algorithm\n",
    "    \n",
    "    This function should return the following:\n",
    "    d: the decryption component.\n",
    "    \n",
    "    This is not a single action, and there are multiple methods to create this. \n",
    "    \n",
    "    You may create a helper function or have all code within this function.\n",
    "    \n",
    "    Plan ahead before coding this.\n",
    "\n",
    "    \"\"\"\n",
    "    #This function calculates the private key exponent d for RSA decryption.\n",
    "    #First, we calculate PHI (Euler's function) finds the number of integers that are coprime with p * q. \n",
    "    #Then we use the Extended Euclidean Algorithm to find d, the modular inverse of e mod phi\n",
    "    #This will ensure e * d = 1mod phi.\n",
    "    \n",
    "    phi = (p - 1) * (q - 1)\n",
    "    gcd, s, t = EEA(e, phi) #Extended Euclidean Algorithm to obtain d\n",
    "    #the value for 'd' MUST be positive. Here we are checking for that\n",
    "    #If not positive, we add 1 to 'd'\n",
    "    if s < 0:\n",
    "        s += phi\n",
    "    return s"
   ]
  },
  {
   "cell_type": "markdown",
   "metadata": {
    "tags": []
   },
   "source": [
    "## 4. Code Package: En/Decode Your Messages  (10 points)\n",
    "\n",
    "<span style=\"color:DarkRed\">\n",
    "\n",
    "1. In this part, you will define two functions `Encode` and `Decode` which will use the public and private keys that you calculated above.\n",
    "2. Using the public key, the `Encode` function will encode a message and generate the corresponding cipher_text.\n",
    "3. Using the private key, the `Decode` function will decode a cipher_text and recover the original message.\n",
    "4. We are proving Convert_Text and Convert_Num for you.</span>\n",
    "\n"
   ]
  },
  {
   "cell_type": "code",
   "execution_count": 9,
   "metadata": {},
   "outputs": [],
   "source": [
    "def Convert_Text(_string):\n",
    "    \"\"\"\n",
    "    Define this function such that it takes in a simple \n",
    "    string such as \"hello\" and outputs the corresponding\n",
    "    standard list of integers (ascii) for each letter in the word hello.\n",
    "    For example:\n",
    "    _string = hello\n",
    "    integer_list = [104, 101, 108, 108, 111]\n",
    "    \n",
    "    You may use \"ord()\"\n",
    "    \"\"\"\n",
    "    integer_list = [ord(char) for char in _string]#use ord to get ASCII value for each character\n",
    "    return integer_list"
   ]
  },
  {
   "cell_type": "code",
   "execution_count": 6,
   "metadata": {},
   "outputs": [],
   "source": [
    "def Convert_Num(_list):\n",
    "    \"\"\"\n",
    "    Do the opposite of what you did in the Convert_Text\n",
    "    function defined above.\n",
    "    \n",
    "    Define this function such that it takes in a list of integers\n",
    "    and outputs the corresponding string (ascii).\n",
    "    \n",
    "    For example:\n",
    "    _list = [104, 101, 108, 108, 111]\n",
    "    _string = hello\n",
    "    \"\"\"\n",
    "    _string = ''\n",
    "    for i in _list:\n",
    "        _string += chr(i)\n",
    "    return _string"
   ]
  },
  {
   "cell_type": "code",
   "execution_count": 11,
   "metadata": {},
   "outputs": [],
   "source": [
    "def Encode(n, e, message):\n",
    "    \"\"\"\n",
    "    Here, the message will be a string of characters.\n",
    "    Use the function Convert_Text from \n",
    "    the basic tool set and get a list of numbers.\n",
    "    \n",
    "    Encode each of these numbers using n and e and\n",
    "    return the encoded cipher_text.\n",
    "    \"\"\"\n",
    "    #This function will take a tring of characters, and convert them into ASCII.\n",
    "    #Then we take those values and encode them by doing the following: (value we found in ASCII) ^ e % n. \n",
    "    #We will loop through this through the whole integer list\n",
    "    integer_list = Convert_Text(message) #Convert message into ASCII\n",
    "    #Encode each ASCII value using our public key\n",
    "    cipher_text = [FME(num, e, n) for num in integer_list] #We are using FME (instead of pow). Check notes in FME function for functionality\n",
    "    return cipher_text"
   ]
  },
  {
   "cell_type": "code",
   "execution_count": 1,
   "metadata": {},
   "outputs": [],
   "source": [
    "def Decode(n, d, cipher_text):\n",
    "    \"\"\"\n",
    "    Here, the cipher_text will be a list of integers.\n",
    "    First, you will decrypt each of those integers using \n",
    "    n and d.\n",
    "    \n",
    "    Later, you will need to use the function Convert_Num from the \n",
    "    basic toolset to recover the original message as a string. \n",
    "    \n",
    "    \"\"\"\n",
    "    #Here, we are taking the cipher_text and using our private key to decrept each of the integers.\n",
    "    #In order to do this, we go through each value in cipher_text and then take that number and take it to the power of \"d\" and then mod it by n.\n",
    "    #This will give us the ASCII value of our message, we then need to take that and covert it back to our message.\n",
    "    decrypted_numbers = [FME(num, d, n) for num in cipher_text] #We are going through each value in the encoded text and using our private key to decrept it\n",
    "    #convert the ASCII values back to string\n",
    "    message = Convert_Num(decrypted_numbers)\n",
    "    return message"
   ]
  },
  {
   "cell_type": "markdown",
   "metadata": {
    "tags": []
   },
   "source": [
    "### <span style=\"color:DarkRed\">5.</span>  Create a Code Demo (10 points)\n",
    "<span style=\"color:DarkRed\">\n",
    "\n",
    "Construct a demonstration of your functions above. This will be a **step-by-step** guide to using your code with a specific example that we can follow using the functions you have created above **using a mix of code and Markdown blocks**. Choose your own \"Hello World\" type message or a favorite quote of your choosing to code and decode yourself.\n",
    " \n",
    "**This is essentially a test that demonstrates your code with a small walkthrough of how it works. You are simply calling the functions above. You are not using a main function or custom feature here.** Imagine this as a code interview scenario, and your interviewer/future boss wants a preliminary walkthrough of your work. Therefore, some text blocks are essential and helpful for your boss to follow your process. \n",
    "\n",
    "Note: You can change and add the type of cell block you are editing with the drop down menu above and go between Code and Markdown.\n",
    "\n",
    "**This is a mix of code blocks and text blocks** and must discuss all three parts for full credit. You must **show and explain your method and demonstrate (by calling your function as an example)** for generating keys and how your encoding and decoding functions work. \n",
    "\n",
    "For full credit: \n",
    "    \n",
    "* When you call FME, explain breifly why we can can't take the \"mod\" of our number using \"%\". \n",
    "* When you call the EEA, explain why this is so essential and really the key to RSA process.</span>\n",
    "\n"
   ]
  },
  {
   "cell_type": "markdown",
   "metadata": {},
   "source": [
    "# Demonstrate and explain how you Generate keys with code and text blocks."
   ]
  },
  {
   "cell_type": "markdown",
   "metadata": {},
   "source": [
    "### Step 1: Choose two prime numbers.\n",
    "We want to select two prime numbers that are distinct (not the same)."
   ]
  },
  {
   "cell_type": "code",
   "execution_count": 28,
   "metadata": {},
   "outputs": [
    {
     "name": "stdin",
     "output_type": "stream",
     "text": [
      " 61\n",
      " 53\n"
     ]
    }
   ],
   "source": [
    "user = input() #61\n",
    "p = int(user)\n",
    "\n",
    "user_2 = input() #53\n",
    "q = int(user_2)"
   ]
  },
  {
   "cell_type": "markdown",
   "metadata": {},
   "source": [
    "### Step 2: Calculate n\n",
    "Both our public key and private key will be using the value 'n' which is the product of our two prime numbers."
   ]
  },
  {
   "cell_type": "code",
   "execution_count": 29,
   "metadata": {},
   "outputs": [
    {
     "name": "stdout",
     "output_type": "stream",
     "text": [
      " n is 3233\n"
     ]
    }
   ],
   "source": [
    "n = p * q\n",
    "print(f\" n is {n}\")"
   ]
  },
  {
   "cell_type": "markdown",
   "metadata": {},
   "source": [
    "### Step 3: Calculate Public Key\n",
    "We will take both of the prime numbers we declared above and pass it to our Find_Public_Key_e function.\n",
    "e is calculated by first calculating phi (Euler's function) which is found by calculating (p - 1)*(q - 1). Then we call our Euclidean_Alg function which will provide us with our e.\n",
    "The Euclidean Algorithm finds an e such that 1 < e < phi and the gcd of e and phi = 1.\n",
    "I also had the program print the values."
   ]
  },
  {
   "cell_type": "code",
   "execution_count": 30,
   "metadata": {},
   "outputs": [
    {
     "name": "stdout",
     "output_type": "stream",
     "text": [
      "Public Key: n = 3233, e = 7\n"
     ]
    }
   ],
   "source": [
    "n, e = Find_Public_Key_e(p, q)\n",
    "\n",
    "print(f\"Public Key: n = {n}, e = {e}\")"
   ]
  },
  {
   "cell_type": "markdown",
   "metadata": {},
   "source": [
    "### Step 4: Calculate Private Key\n",
    "We will take both of the prime numbers declared above, and pass it into our Find_Private_Key_d function.\n",
    "d is calculated by calculating PHI (Euler's function) which finds the number of integers that are coprime with p * q. \n",
    "Then we use the Extended Euclidean Algorithm to find d, the modular inverse of e mod phi\n",
    "I also had the program print the values."
   ]
  },
  {
   "cell_type": "code",
   "execution_count": 31,
   "metadata": {},
   "outputs": [
    {
     "name": "stdout",
     "output_type": "stream",
     "text": [
      "Private Key: n = 3233, d = 1783\n"
     ]
    }
   ],
   "source": [
    "d = Find_Private_Key_d(e, p, q)\n",
    "\n",
    "print(f\"Private Key: n = {n}, d = {d}\")"
   ]
  },
  {
   "cell_type": "markdown",
   "metadata": {},
   "source": [
    "# Demonstrate and explain how you encode a message with code and text blocks."
   ]
  },
  {
   "cell_type": "markdown",
   "metadata": {},
   "source": [
    "### Step 1: Generate RSA Public key\n",
    "This was actually already done above. You will see that our Public Key (3233, 7) was generated. We will be using this to encode our message."
   ]
  },
  {
   "cell_type": "markdown",
   "metadata": {},
   "source": [
    "### Step 2: Grab user's input\n",
    "We need to take in the message we want to encode."
   ]
  },
  {
   "cell_type": "code",
   "execution_count": 33,
   "metadata": {},
   "outputs": [
    {
     "name": "stdin",
     "output_type": "stream",
     "text": [
      " Hello World\n"
     ]
    }
   ],
   "source": [
    "message = input()"
   ]
  },
  {
   "cell_type": "markdown",
   "metadata": {},
   "source": [
    "### Step 3: Encode user's message\n",
    "We will need to use the function we created, Encode, to encode the message. \n",
    "We will pass the n and e we generated in the previous section into the function as well as the message we just received from the user.\n",
    "Encode will calculate message ^ e mod n for each ASCII value\n",
    "I also want to print this encoded text"
   ]
  },
  {
   "cell_type": "code",
   "execution_count": 34,
   "metadata": {},
   "outputs": [
    {
     "name": "stdout",
     "output_type": "stream",
     "text": [
      "Encoded Message: [1087, 3071, 1877, 1877, 3183, 2774, 1298, 3183, 1797, 1877, 2872]\n"
     ]
    }
   ],
   "source": [
    "cipher_text = Encode(n, e, message)\n",
    "print(f\"Encoded Message: {cipher_text}\")"
   ]
  },
  {
   "cell_type": "markdown",
   "metadata": {},
   "source": [
    "# Demonstrate and explain how you decode the same message with code and text blocks.\n"
   ]
  },
  {
   "cell_type": "markdown",
   "metadata": {},
   "source": [
    "### Step 1: Generate RSA Private key\n",
    "This was also done in the first step. You will see that our Private Key (3233, 1783) was generated. We will be using that Private Key to decode our message."
   ]
  },
  {
   "cell_type": "markdown",
   "metadata": {},
   "source": [
    "### Step 2: Take the Encoded message above and pass it through our Decode function\n",
    "Our decode function will take our cipher_text and use our private key to return it back to ASCII format. This is done by using cipher_text ^ d mod n. \n",
    "We will then use Convert_Num (inside of Decode) and covert it back to a readible message."
   ]
  },
  {
   "cell_type": "code",
   "execution_count": 35,
   "metadata": {},
   "outputs": [
    {
     "name": "stdout",
     "output_type": "stream",
     "text": [
      "Decoded message: Hello World\n"
     ]
    }
   ],
   "source": [
    "decoded = Decode(n, d, cipher_text)\n",
    "print(f\"Decoded message: {decoded}\")"
   ]
  },
  {
   "cell_type": "markdown",
   "metadata": {
    "tags": []
   },
   "source": [
    "### 6. Code Exchange Results (5 points) \n",
    "<span style=\"color:DarkRed\"> Now that your code is working and you are able read and write messages, include 3 complete examples of exchanging code (and exchange is both reading a message and responding) from Piazza here.  Both call your code and output code exchange results here. \n",
    "We are just looking to see which 3 codes you have exchanged in Piazza.</span>"
   ]
  },
  {
   "cell_type": "code",
   "execution_count": 7,
   "metadata": {},
   "outputs": [
    {
     "name": "stdout",
     "output_type": "stream",
     "text": [
      "Decoded message: What song best describes the feeling you get when your RSA code is working?\n"
     ]
    }
   ],
   "source": [
    "#This is me decoding the original message in Piazza.\n",
    "#I only included decode, Convert_Num and FME in this run in order to decipher\n",
    "cipher_text = [2128, 1150, 4250, 1349, 1262, 3336, 2371, 2497, 519, 1262, 1263, 1105, 3336, 1349, 1262, 2310, 1105, 3336, 4115, 762, 2405, 1263, 1105, 3336, 1262, 1349, 1150, 1105, 1262, 506, 1105, 1105, 4723, 2405, 2497, 519, 1262, 1974, 2371, 58, 1262, 519, 1105, 1349, 1262, 4839, 1150, 1105, 2497, 1262, 1974, 2371, 58, 762, 1262, 13, 4679, 1573, 1262, 4115, 2371, 2310, 1105, 1262, 2405, 3336, 1262, 4839, 2371, 762, 1560, 2405, 2497, 519, 3250]\n",
    "n = 5251\n",
    "d = 3403\n",
    "decoded = Decode(n, d, cipher_text)\n",
    "print(f\"Decoded message: {decoded}\")"
   ]
  },
  {
   "cell_type": "code",
   "execution_count": 12,
   "metadata": {},
   "outputs": [
    {
     "name": "stdout",
     "output_type": "stream",
     "text": [
      "Encoded Message: [443, 1262, 1349, 1150, 2405, 2497, 1560, 1262, 443, 1558, 2310, 1262, 4115, 1150, 2371, 2371, 3336, 1105, 1262, 1349, 1150, 1105, 1262, 3336, 2371, 2497, 519, 1262, 1456, 2371, 2497, 506, 2405, 2310, 1105, 2497, 1349, 1262, 988, 762, 2371, 4115, 1560, 1262, 4720, 1105, 762, 3336, 2405, 2371, 2497, 658, 1262, 1263, 1974, 1262, 4623, 1105, 3283, 2405, 1262, 3143, 2371, 4720, 4250, 1349, 2371, 1262, 1263, 1105, 4115, 4250, 58, 3336, 1105, 1262, 1349, 1150, 1105, 1262, 506, 1105, 1105, 4723, 2405, 2497, 519, 1262, 443, 1262, 519, 1105, 1349, 1262, 4250, 506, 1349, 1105, 762, 1262, 519, 1105, 1349, 1349, 2405, 2497, 519, 1262, 4250, 2497, 1974, 1262, 2911, 2405, 1105, 4115, 1105, 1262, 2371, 506, 1262, 4115, 2371, 2310, 1105, 1262, 1349, 2371, 1262, 4839, 2371, 762, 1560, 1262, 3283, 4250, 1560, 1105, 3336, 1262, 3283, 1105, 1262, 506, 1105, 1105, 4723, 1262, 443, 1262, 4115, 4250, 2497, 1262, 1349, 4250, 1560, 1105, 1262, 2371, 2497, 1262, 4250, 2497, 1974, 1349, 1150, 2405, 2497, 519, 2818]\n"
     ]
    }
   ],
   "source": [
    "#This is me encoding my response back.\n",
    "#To do this, I only need the functions Encode, Convert_Text, and FME\n",
    "n = 5251\n",
    "e = 3\n",
    "message = \"I think I'd choose the song Confident (rock version) by Demi Lovato because the feeling I get after getting any piece of code to work makes me feel I can take on anything.\"\n",
    "cipher_text = Encode(n, e, message)\n",
    "print(f\"Encoded Message: {cipher_text}\")"
   ]
  },
  {
   "cell_type": "code",
   "execution_count": 14,
   "metadata": {},
   "outputs": [
    {
     "name": "stdout",
     "output_type": "stream",
     "text": [
      "Decoded message: What did you do for July 4th?\n"
     ]
    }
   ],
   "source": [
    "#This is me decoding another peers message\n",
    "#I only included decode, Convert_Num and FME in this run in order to decipher\n",
    "cipher_text = [146, 78, 15, 116, 210, 289, 144, 289, 210, 127, 297, 156, 210, 289, 297, 210, 293, 297, 160, 210, 107, 156, 257, 127, 210, 104, 116, 78, 241]\n",
    "n = 299\n",
    "d = 233\n",
    "decoded = Decode(n, d, cipher_text)\n",
    "print(f\"Decoded message: {decoded}\")"
   ]
  },
  {
   "cell_type": "code",
   "execution_count": 37,
   "metadata": {},
   "outputs": [
    {
     "name": "stdout",
     "output_type": "stream",
     "text": [
      "Encoded Message: [255, 210, 46, 99, 95, 54, 116, 210, 57, 127, 210, 293, 297, 156, 160, 116, 78, 210, 297, 293, 210, 107, 156, 257, 127, 210, 71, 297, 160, 217, 144, 54, 129, 210, 297, 54, 210, 57, 127, 210, 99, 160, 297, 227, 95, 203, 116, 210, 293, 297, 160, 210, 163, 104, 133, 133, 115]\n"
     ]
    }
   ],
   "source": [
    "#This is me encoding my response back to my peer.\n",
    "#To do this, I only need the functions Encode, Convert_Text, and FME\n",
    "n = 299\n",
    "e = 17\n",
    "message = \"I spent my fourth of July working on my project for 2400.\"\n",
    "cipher_text = Encode(n, e, message)\n",
    "print(f\"Encoded Message: {cipher_text}\")"
   ]
  },
  {
   "cell_type": "code",
   "execution_count": 36,
   "metadata": {},
   "outputs": [
    {
     "name": "stdout",
     "output_type": "stream",
     "text": [
      "Encoded Message: [286, 576, 2774, 731, 3183, 1297, 2774, 24, 3183, 1297, 1877, 2872, 2774, 3020, 1544, 567, 1762, 1818, 1544, 1762, 1877, 731, 2774, 1877, 3071, 1818, 1797, 1544, 2774, 1818, 1544, 731, 2774, 567, 2174, 3020, 1877, 1877, 2774, 3020, 1544, 2774, 1762, 3052, 3071, 2774, 863, 3183, 1797, 1877, 2872, 1129, 2774, 863, 3052, 1818, 1762, 2774, 863, 3183, 1297, 1877, 2872, 2774, 3020, 1762, 2774, 2920, 3071, 2774, 1818, 1544, 2872, 2774, 863, 3052, 731, 2080]\n"
     ]
    }
   ],
   "source": [
    "#Finally, this is how I decoded my response that used my own public/private keys\n",
    "n = 3233\n",
    "e = 7\n",
    "message = \"If you could instantly learn any skill in the world, what would it be and why?\"\n",
    "cipher_text = Encode(n, e, message)\n",
    "print(f\"Encoded Message: {cipher_text}\")"
   ]
  },
  {
   "cell_type": "markdown",
   "metadata": {},
   "source": [
    "### 7. Write a Narrative (25 points) \n",
    "<span style=\"color:DarkRed\">TWO pages of meaningful narrative about your process - not including the examples -  (800 words) here in this block. Include specifc examples of debugging an challenges referencing your individual process. Responses that are vague, lacking in specific and individual details, or sound like CHatGPT will not recive full credit. Include the following:\n",
    "\n",
    "* Describe your process. Did you plan ahead? Did you wing it? What have you learned about your own process? \n",
    "* Describe the results of exchanging keys and codes with classmates. Did it work the first time or did you need to make adjustments?<span style = \"color:white\">  Use the word fortitude\n",
    "\n",
    "* What was most challenging? <span style = \"color:white\">  Use a cooking metaphor.\n",
    "\n",
    "* Who helped you with your project?  Which resources were most helpful?\n",
    "\n",
    "* What was your Best Mistake? (funniest? most frustrating? the one you learned the most from?)</span>"
   ]
  },
  {
   "cell_type": "markdown",
   "metadata": {},
   "source": [
    "I am not typically the type of person to plan ahead. I tend to dive straight into tasks and figure things out as I go. I started off with the Mastery Workbook assignments which was due sooner than the RSA Project. A great thing about the most recent Mastery Workbook assignments was that it provided me with the framework to really understand how to start this project. The workbooks also had us program the Extended Euclidian Algorithm and the Fast Modular Exponentiation which I could use in this project. While doing this project, I’ve come to realize just how important it is to first sit down and organize your thoughts before jumping in and coding. In the past, I’ve spent days and weeks attempting to finish a coding assignment just because I decided to jump straight into coding without first understanding why the algorithm worked and without attempting to write pseudocode. The Mastery Workbook really had me break apart each part of the RSA algorithm and helped me understand how each function plays a part in the algorithm.  \n",
    "\n",
    "I put off doing the exchange with my classmates till I could completely run my code with success and accuracy, so I didn’t have to make many adjustments. I made a mistake by typing in one of my keys wrong which caused a massive jumble of random characters, however, I found the typo and was able to correct it.  I took the code I created for the Encode and Decode function and put it in another file so I can switch the n, d, and e to match whatever my classmates were using. This method prevented me from making any mistakes when attempting to decode their messages. It was a lot of fun decoding the messages and answering back in an encoded message. It reminded me of when I was a child making a new language with my friends so the adults wouldn’t understand what we were talking about. \n",
    "\n",
    "The most challenging part of this project was the fact that I’ve never written in Python before I taken this class. All my code writing has been in C++ and/or assembly. I think this would be like trying to cook in another language. You know how cooking works and you’ve baked yourself a cake in the past, however, now it is in a whole new language you’ve never read before. You can easily understand the basic framework (you need to mix the dry ingredients, then the wet ingredients, and then combine them. Next, you would put the cake in the oven at x degrees), however, you don’t understand this particular recipe. You need to learn what “flour” means in another language. Funny enough, I would get so frustrated because I kept adding a semi-colon at the end of each of my lines out of habit and would have to go through and remove them because I kept getting compiling errors. Those were easy fixes; however, they were tedious.  \n",
    " \n",
    "Most of the resources I used were within Moodle and they were things I learned from the lessons from previous weeks. For instance, I was able to write my FME function because of Algorithm 5 on page 254 within the “Discrete Mathematics and Its Applications” book by Kenneth H. Rosen. Additionally, you can find pseudocode for the Euclidean Algorithm on page 269 of the same book. One thing I would like to point out is that for the Extended Euclidean Algorithm, I went the route of creating a loop that continuously applies the Euclidean Algorithm until b is 0. But after more research, I found we could have done this using recursion (calling the function within the function). I found this information in the following site: https://www.geeksforgeeks.org/euclidean-algorithms-basic-and-extended/. They provide many resources for different algorithms, but I decided not to look there until after I figured out how I’d implement it.  \n",
    "\n",
    "As mentioned in a previous paragraph, my biggest hurdle was learning the syntax for Python. From the lack of semi-colons, to understanding how important it is to indent correctly, it took me a lot of time to understand how the language works. Even though it was very difficult for me to learn the language, I am glad I did. I know it will be very beneficial to my career to have a few languages under my belt. I don’t think I struggled as much on learning the algorithms because I really strengthened my programming skills after taking Data Structures at CU Boulder. I learned that with a lot of those algorithms, it’s important to figure out the basics and the theory behind it before you jump straight into programming. Do the calculations by hand first and see why it works. Additionally, if I struggle with any algorithm, what I will do is find someone’s implementation of it online, print it out, and go line by line and try to determine what the output is without running it on my computer. It can really help you understand what each line is doing within the code.  "
   ]
  },
  {
   "cell_type": "markdown",
   "metadata": {
    "tags": []
   },
   "source": [
    "### 8. How to Break Code. (10 points)\n",
    "\n",
    "<span style=\"color:DarkRed\">\n",
    "\n",
    "\n",
    "**This section (and section 9 and 10) of the project is only available to students exchanging codes by the Friday (midnight) before the project is due.**\n",
    "\n",
    "**Implementing a factoring algorithm:**\n",
    "\n",
    "Begin by coding the basic brute force factorization algorithm given in pseudocode below.\n",
    "\n",
    "Brute Force Factoring\n",
    "<pre><code>def factorize(n):\n",
    "    # n is a number, return the smallest factor of n\n",
    "    for i from 2 to n-1:\n",
    "        if i divides n:\n",
    "            return i\n",
    "        return FALSE\n",
    "        </code></pre>"
   ]
  },
  {
   "cell_type": "code",
   "execution_count": 20,
   "metadata": {},
   "outputs": [
    {
     "name": "stdout",
     "output_type": "stream",
     "text": [
      "Smallest Factor of 3233 is 53\n"
     ]
    }
   ],
   "source": [
    "def factorize(n):\n",
    "    # This function attempts to find the smallest factor of n by iterating from 2 to n-1 to find the smallest factor. \n",
    "    #It checks if that value divides into n, if not, continue the loop until we reach n-1. If we do find a factor, we return that value. \n",
    "    \n",
    "    for i in range(2, n): #Looping until we find a factor of n or we reach n-1. \n",
    "        if n % i == 0: #if the mod of n and the number is 0, it is a factor\n",
    "            return i #We will return that value\n",
    "    return False #We will return false if we reach n-1 and find no factor "
   ]
  },
  {
   "cell_type": "markdown",
   "metadata": {},
   "source": [
    "<span style=\"color:DarkRed\"> After you have tested your RSA package yourself, and tested it with classmates by publishing both the private and public keys on Piazza, post 2 messages with just the public keys for people to break on the \"Just Public Keys\" thread - use both very small n ‘s (under 1000) for practice. Feel free to come up with n's that create a challenge.\n",
    "        \n",
    "* Explain in detail how breaking works in this section using markdown blocks. Demo a short example with a small n. What are the complete steps? What tools do you need? <span style = \"color:white\">  Use a sports metaphor.\n",
    "* Try brute forcing a larger value of n, say 15-18 digits long. What do you notice? (If this is taking a while, just ride it out, or Ctrl+C will KeyboardInterrupt the cell block). Provide a sample large n that will take ~3-5 min to crack. \n",
    "    * Optional Challenge: Consider illustrating this with python math and time modules. matplotlib and time are good examples. Documentation is available.\n",
    "* How secure is RSA? Why is it difficult to break codes in RSA? \n",
    "* Is our implementation of RSA secure? What are it's flaws? </span>"
   ]
  },
  {
   "cell_type": "code",
   "execution_count": 22,
   "metadata": {},
   "outputs": [
    {
     "name": "stdout",
     "output_type": "stream",
     "text": [
      "Smallest Factor of 3233 is 53\n"
     ]
    }
   ],
   "source": [
    "#Here we are just using our n from above and printing out whether we found a factor.\n",
    "number = 3233\n",
    "factor = factorize(number)\n",
    "if factor:\n",
    "    print(f\"Smallest Factor of {number} is {factor}\")\n",
    "else:\n",
    "    print(f\"{number} is prime\")"
   ]
  },
  {
   "cell_type": "code",
   "execution_count": 23,
   "metadata": {},
   "outputs": [
    {
     "name": "stdout",
     "output_type": "stream",
     "text": [
      "Smallest Factor of 1689259081189 is 1299709\n"
     ]
    }
   ],
   "source": [
    "number = 1689259081189 #1299709 * 1299721 (two prime numbers)\n",
    "factor = factorize(number)\n",
    "if factor:\n",
    "    print(f\"Smallest Factor of {number} is {factor}\")\n",
    "else:\n",
    "    print(f\"{number} is prime\")"
   ]
  },
  {
   "cell_type": "markdown",
   "metadata": {},
   "source": [
    "This particular way of breaking the algorithm works by first finding a factor of n. Since n is part of the public key, this is known to everyone. \n",
    "In this particular instance, n = 1689259081189, we put it through the factorize function and get 1299709, which is p. We can then find q by dividing n by the smallest factor, which will equal 1299721 (q). \n",
    "Now that we have both p and q, we can calculate the private key d as follows:"
   ]
  },
  {
   "cell_type": "code",
   "execution_count": 30,
   "metadata": {},
   "outputs": [
    {
     "name": "stdout",
     "output_type": "stream",
     "text": [
      "Public Key: n = 1689259081189, e = 7\n"
     ]
    }
   ],
   "source": [
    "#First we need to find the public key to get e:\n",
    "#I'm keeping this in here, but I realized that this is unecessary. We already have e from the public key.\n",
    "p = 1299709\n",
    "q = 1299721\n",
    "n, e = Find_Public_Key_e(p, q)\n",
    "\n",
    "print(f\"Public Key: n = {n}, e = {e}\")"
   ]
  },
  {
   "cell_type": "code",
   "execution_count": 31,
   "metadata": {},
   "outputs": [
    {
     "name": "stdout",
     "output_type": "stream",
     "text": [
      "Private Key: n = 1689259081189, d = 1447934127223\n"
     ]
    }
   ],
   "source": [
    "#Now that we have e, we can find the private key:\n",
    "d = Find_Private_Key_d(e, p, q)\n",
    "\n",
    "print(f\"Private Key: n = {n}, d = {d}\")"
   ]
  },
  {
   "cell_type": "markdown",
   "metadata": {},
   "source": [
    "Security of RSA's depend on the key length. If the length of n is very short (like in our demonstrations) it can be very easy to decode. However, RSA's used in real life applications are extremely long and very difficult to decode. It would be very inefficient if we were to use our brute force breaking on a key that is much longer. "
   ]
  },
  {
   "cell_type": "markdown",
   "metadata": {
    "tags": []
   },
   "source": [
    "### 9. Code Breaking: Complete Examples (5 points)\n",
    "\n",
    "<span style=\"color:DarkRed\">\n",
    "\n",
    "* Decode one example from Piazza in detail showing all the steps. Use a combination of code and markdown blocks.\n",
    "* Decode and Respond to 3 \"just codes with public keys\" in Piazza with different sizes of n. Include complete results here - you may just show the results here.</span>\n"
   ]
  },
  {
   "cell_type": "markdown",
   "metadata": {
    "tags": []
   },
   "source": [
    "### Example 1"
   ]
  },
  {
   "cell_type": "code",
   "execution_count": 32,
   "metadata": {},
   "outputs": [
    {
     "name": "stdout",
     "output_type": "stream",
     "text": [
      "Smallest Factor of 703 is 19\n"
     ]
    }
   ],
   "source": [
    "#Finding the smallest factor\n",
    "number = 703\n",
    "factor = factorize(number)\n",
    "if factor:\n",
    "    print(f\"Smallest Factor of {number} is {factor}\")\n",
    "else:\n",
    "    print(f\"{number} is prime\")"
   ]
  },
  {
   "cell_type": "code",
   "execution_count": 60,
   "metadata": {},
   "outputs": [
    {
     "name": "stdout",
     "output_type": "stream",
     "text": [
      "Private Key: d = 389\n"
     ]
    }
   ],
   "source": [
    "#Now that we have both p and q, we can grab e from the public key and calculate the Private key\n",
    "e = 5\n",
    "p = 19\n",
    "q = 37\n",
    "d = Find_Private_Key_d(e, p, q)\n",
    "\n",
    "print(f\"Private Key: d = {d}\")"
   ]
  },
  {
   "cell_type": "code",
   "execution_count": 47,
   "metadata": {},
   "outputs": [
    {
     "name": "stdout",
     "output_type": "stream",
     "text": [
      "Decoded message: The Conquistador's treasure is buried south of Creed.\n"
     ]
    }
   ],
   "source": [
    "#Decipher the message using decode\n",
    "cipher_text = [544, 472, 233, 242, 250, 555, 591, 550, 376, 364, 210, 165, 526, 47, 555, 95, 476, 210, 242, 165, 95, 233, 526, 210, 376, 95, 233, 242, 364, 210, 242, 224, 376, 95, 364, 233, 47, 242, 210, 555, 376, 165, 472, 242, 555, 410, 242, 250, 95, 233, 233, 47, 145]\n",
    "n = 703\n",
    "d = 389\n",
    "decoded = Decode(n, d, cipher_text)\n",
    "print(f\"Decoded message: {decoded}\")"
   ]
  },
  {
   "cell_type": "code",
   "execution_count": 45,
   "metadata": {},
   "outputs": [
    {
     "name": "stdout",
     "output_type": "stream",
     "text": [
      "Encoded Message: [517, 242, 591, 233, 416, 233, 95, 242, 541, 526, 165, 511, 472, 233, 47, 242, 58, 555, 591, 165, 581, 242, 302, 581, 165, 472, 555, 591, 242, 233, 364, 165, 472, 233, 95, 242, 210, 555, 242, 364, 410, 242, 364, 165, 242, 364, 210, 242, 526, 242, 95, 233, 410, 233, 95, 233, 591, 511, 233, 242, 165, 555, 242, 165, 472, 526, 165, 242, 523, 555, 416, 364, 233, 242, 517, 476, 523, 242, 376, 591, 210, 376, 95, 233, 242, 526, 210, 242, 541, 233, 90, 90, 86]\n"
     ]
    }
   ],
   "source": [
    "#My response back using encode\n",
    "n = 703\n",
    "e = 5\n",
    "message = \"I never watched Monty Python either so if it is a reference to that movie I'm unsure as well!\"\n",
    "cipher_text = Encode(n, e, message)\n",
    "print(f\"Encoded Message: {cipher_text}\")"
   ]
  },
  {
   "cell_type": "markdown",
   "metadata": {},
   "source": [
    "### Example 2"
   ]
  },
  {
   "cell_type": "code",
   "execution_count": 48,
   "metadata": {},
   "outputs": [
    {
     "name": "stdout",
     "output_type": "stream",
     "text": [
      "Smallest Factor of 629 is 17\n"
     ]
    }
   ],
   "source": [
    "#Finding the smallest factor\n",
    "number = 629\n",
    "factor = factorize(number)\n",
    "if factor:\n",
    "    print(f\"Smallest Factor of {number} is {factor}\")\n",
    "else:\n",
    "    print(f\"{number} is prime\")"
   ]
  },
  {
   "cell_type": "code",
   "execution_count": 61,
   "metadata": {},
   "outputs": [
    {
     "name": "stdout",
     "output_type": "stream",
     "text": [
      "Private Key: d = 461\n"
     ]
    }
   ],
   "source": [
    "#Now that we have both p and q, we can grab e from the public key and calculate the Private key\n",
    "e = 5\n",
    "p = 17\n",
    "q = 37\n",
    "d = Find_Private_Key_d(e, p, q)\n",
    "\n",
    "print(f\"Private Key: d = {d}\")"
   ]
  },
  {
   "cell_type": "code",
   "execution_count": 54,
   "metadata": {},
   "outputs": [
    {
     "name": "stdout",
     "output_type": "stream",
     "text": [
      "Decoded message: Mathematics is the music of reason. - James Joseph Sylvester\n"
     ]
    }
   ],
   "source": [
    "#Decipher the message\n",
    "cipher_text = [280, 156, 165, 287, 492, 79, 156, 165, 549, 437, 506, 427, 549, 506, 427, 165, 287, 492, 427, 79, 376, 506, 549, 437, 427, 518, 595, 427, 428, 492, 156, 506, 518, 332, 71, 427, 282, 427, 296, 156, 79, 492, 506, 427, 296, 518, 506, 492, 482, 287, 427, 478, 100, 534, 305, 492, 506, 165, 492, 428]\n",
    "n = 629\n",
    "d = 461\n",
    "decoded = Decode(n, d, cipher_text)\n",
    "print(f\"Decoded message: {decoded}\")"
   ]
  },
  {
   "cell_type": "code",
   "execution_count": 55,
   "metadata": {},
   "outputs": [
    {
     "name": "stdout",
     "output_type": "stream",
     "text": [
      "Encoded Message: [598, 428, 492, 165, 165, 100, 427, 437, 518, 518, 534, 427, 180, 376, 518, 165, 492, 71, 427, 184, 427, 156, 79, 427, 180, 376, 549, 165, 492, 427, 156, 427, 595, 156, 332, 427, 518, 595, 427, 79, 376, 506, 549, 437, 427, 506, 518, 427, 549, 165, 439, 506, 427, 549, 332, 165, 492, 428, 492, 506, 165, 549, 332, 273, 427, 165, 518, 427, 506, 492, 492, 427, 165, 287, 492, 427, 437, 518, 79, 482, 156, 428, 549, 506, 518, 332, 71]\n"
     ]
    }
   ],
   "source": [
    "#My response back\n",
    "n = 629\n",
    "e = 5\n",
    "message = \"Pretty cool quote. I am quite a fan of music so it's interesting to see the comparison.\"\n",
    "cipher_text = Encode(n, e, message)\n",
    "print(f\"Encoded Message: {cipher_text}\")"
   ]
  },
  {
   "cell_type": "markdown",
   "metadata": {},
   "source": [
    "### Example 3"
   ]
  },
  {
   "cell_type": "code",
   "execution_count": 57,
   "metadata": {},
   "outputs": [
    {
     "name": "stdout",
     "output_type": "stream",
     "text": [
      "Smallest Factor of 559 is 13\n"
     ]
    }
   ],
   "source": [
    "#Finding the smallest factor\n",
    "number = 559\n",
    "factor = factorize(number)\n",
    "if factor:\n",
    "    print(f\"Smallest Factor of {number} is {factor}\")\n",
    "else:\n",
    "    print(f\"{number} is prime\")"
   ]
  },
  {
   "cell_type": "code",
   "execution_count": 62,
   "metadata": {},
   "outputs": [
    {
     "name": "stdout",
     "output_type": "stream",
     "text": [
      "Private Key: d = 101\n"
     ]
    }
   ],
   "source": [
    "#Now that we have both p and q, we can grab e from the public key and calculate the Private key\n",
    "e = 5\n",
    "p = 13\n",
    "q = 43\n",
    "d = Find_Private_Key_d(e, p, q)\n",
    "\n",
    "print(f\"Private Key: d = {d}\")"
   ]
  },
  {
   "cell_type": "code",
   "execution_count": 64,
   "metadata": {},
   "outputs": [
    {
     "name": "stdout",
     "output_type": "stream",
     "text": [
      "Decoded message: You have not failed until you quit trying.\n"
     ]
    }
   ],
   "source": [
    "#Decipher the message\n",
    "cipher_text = [501, 24, 52, 457, 234, 145, 27, 511, 457, 314, 24, 12, 457, 150, 145, 417, 426, 511, 367, 457, 52, 314, 12, 417, 426, 457, 127, 24, 52, 457, 237, 52, 417, 12, 457, 12, 134, 127, 417, 314, 298, 544]\n",
    "n = 559\n",
    "d = 101\n",
    "decoded = Decode(n, d, cipher_text)\n",
    "print(f\"Decoded message: {decoded}\")"
   ]
  },
  {
   "cell_type": "code",
   "execution_count": 66,
   "metadata": {},
   "outputs": [
    {
     "name": "stdout",
     "output_type": "stream",
     "text": [
      "Encoded Message: [54, 134, 52, 511, 362, 457, 218, 20, 476, 511, 203, 417, 145, 426, 426, 127, 457, 448, 417, 12, 234, 457, 203, 24, 367, 417, 314, 298, 44, 457, 127, 24, 52, 457, 234, 145, 27, 511, 457, 12, 24, 457, 477, 511, 511, 476, 457, 12, 134, 127, 417, 314, 298, 457, 52, 314, 12, 417, 426, 457, 127, 24, 52, 457, 298, 511, 12, 457, 417, 12, 544]\n"
     ]
    }
   ],
   "source": [
    "#My response back\n",
    "n = 559\n",
    "e = 5\n",
    "message = \"True! Especially with coding, you have to keep trying until you get it.\"\n",
    "cipher_text = Encode(n, e, message)\n",
    "print(f\"Encoded Message: {cipher_text}\")"
   ]
  },
  {
   "cell_type": "markdown",
   "metadata": {},
   "source": [
    "### Generating two public keys along with messages"
   ]
  },
  {
   "cell_type": "code",
   "execution_count": 67,
   "metadata": {},
   "outputs": [
    {
     "name": "stdout",
     "output_type": "stream",
     "text": [
      "Public Key: n = 18, e = 3\n"
     ]
    }
   ],
   "source": [
    "#Public key #1\n",
    "p = 2\n",
    "q = 9\n",
    "n, e = Find_Public_Key_e(p, q)\n",
    "\n",
    "print(f\"Public Key: n = {n}, e = {e}\")"
   ]
  },
  {
   "cell_type": "code",
   "execution_count": 68,
   "metadata": {},
   "outputs": [
    {
     "name": "stdout",
     "output_type": "stream",
     "text": [
      "Encoded Message: [0, 8, 17, 8, 9, 8, 0, 1, 8, 0, 9, 1, 9, 8, 8, 8, 9, 8, 9, 9, 0, 8, 0, 17, 1, 0, 9, 8, 1, 8, 9, 9, 8, 8, 9, 0, 8, 8, 9, 1, 9, 0, 0, 9, 17, 8, 9, 1, 8, 9, 9, 0, 8, 10, 9, 9, 8, 8, 1, 8, 9, 0, 8, 8, 9, 10, 1, 1, 10, 8, 10, 8, 10, 0, 1, 8, 17, 0, 9, 8, 8, 8, 10, 8, 10, 9, 9, 1, 17, 10, 17, 0, 8]\n"
     ]
    }
   ],
   "source": [
    "#Encode message\n",
    "n = 18\n",
    "e = 3\n",
    "message = \"The only limit to our realization of tomorrow is our doubts of today. — Franklin D. Roosevelt\"\n",
    "cipher_text = Encode(n, e, message)\n",
    "print(f\"Encoded Message: {cipher_text}\")"
   ]
  },
  {
   "cell_type": "code",
   "execution_count": 69,
   "metadata": {},
   "outputs": [
    {
     "name": "stdout",
     "output_type": "stream",
     "text": [
      "Public Key: n = 459, e = 3\n"
     ]
    }
   ],
   "source": [
    "#Public Key #2\n",
    "p = 27\n",
    "q = 17\n",
    "n, e = Find_Public_Key_e(p, q)\n",
    "\n",
    "print(f\"Public Key: n = {n}, e = {e}\")"
   ]
  },
  {
   "cell_type": "code",
   "execution_count": 70,
   "metadata": {},
   "outputs": [
    {
     "name": "stdout",
     "output_type": "stream",
     "text": [
      "Encoded Message: [172, 27, 0, 305, 179, 27, 208, 179, 170, 314, 181, 296, 179, 314, 181, 388, 388, 305, 359, 208, 179, 170, 314, 305, 359, 179, 280, 270, 162, 108, 351, 305, 179, 242, 162, 208, 280, 179, 190, 181, 431, 27, 359, 307, 179, 270, 296, 314, 305, 351, 179, 388, 216, 181, 359, 208, 28, 179, 307, 179, 386, 270, 314, 359, 179, 172, 305, 359, 359, 270, 359]\n"
     ]
    }
   ],
   "source": [
    "#Encode message\n",
    "n = 459\n",
    "e = 3\n",
    "message = \"Life is what happens when you're busy making other plans. — John Lennon\"\n",
    "cipher_text = Encode(n, e, message)\n",
    "print(f\"Encoded Message: {cipher_text}\")"
   ]
  },
  {
   "cell_type": "markdown",
   "metadata": {},
   "source": [
    "\n",
    "### 10. Custom CODE Feature  (10 points) ##\n",
    "<span style=\"color:DarkRed\">- The custom feature should be a \"Stand Alone\" feature at the end of the notebook. \n",
    "- If you need  to use code from above, please copy the entire package and functions again as part of your feature so it can be tested independently. \n",
    "- You may remove the give code comments in this section.\n",
    "- Be sure to provide a demonstration showing that it works. See RSA Guide for more information and suggestions. \n",
    "- Include a narrative describing your project.\n",
    "- All custom features must include a narrative explaining the features and all code must be commented.</span>\n",
    "\n",
    "**Do not forget the self-grading element.**\n"
   ]
  },
  {
   "cell_type": "code",
   "execution_count": null,
   "metadata": {},
   "outputs": [],
   "source": []
  },
  {
   "cell_type": "markdown",
   "metadata": {},
   "source": [
    "**Please use the grading guide below to self grade your Custom Feature.**\n",
    "\n",
    "GRADING FOR CUSTOM FEATURE:\n",
    "\n",
    "10 pts  Wow.  It is amazing.\n",
    "        Shows initiative and originality. \n",
    "        You did something extra special and pushed yourself.\n",
    "        You went beyond all expectations \n",
    "        You broke the rules in a creative way. \n",
    "        Your coding and commenting is exceptional.\n",
    "        Excellent \n",
    "\n",
    "7-9 points - It is GOOD! \n",
    "        You were a “self starter.” \n",
    "         You did everything  requested. \n",
    "        All expectations met. \n",
    "       \tYou did a very good job. \n",
    "        Good use of commenting.\n",
    "        Shows mastery of skills.\n",
    "\n",
    "5-6 points  - Okay.\n",
    "        Minimum requirements.\n",
    "        Commenting weak.\n",
    "\n",
    "0-4 points - It is not finished. \n",
    "            Does meet objectives. \n",
    "            Did not follow directions. \n",
    "            Chose not to do this part (which is a totally fine choice)\n"
   ]
  },
  {
   "cell_type": "markdown",
   "metadata": {},
   "source": [
    "## Self grading of custom feature ##\n",
    "\n",
    "Here in this block, please rate what score out of 8 your custom feature merits given the criteria above:\n",
    "\n",
    "* For example, if you are brand new to programming, using a main function could be an amazing feature - tell me how this helped you move to a new level.\n",
    "* In what ways did you push yourself? Did you try something you've never done before?\n",
    "* Alternatively, if you just did not have the time to do the custom feature, this is actually just fine and a reasonable choice. No judgment."
   ]
  },
  {
   "cell_type": "markdown",
   "metadata": {},
   "source": [
    "0 - I decided not to do this part. I didn't have time with juggling a full time job and a family. But, it might be cool to pick this up another time to explore different options!"
   ]
  },
  {
   "cell_type": "code",
   "execution_count": null,
   "metadata": {},
   "outputs": [],
   "source": []
  }
 ],
 "metadata": {
  "kernelspec": {
   "display_name": "Python 3 (ipykernel)",
   "language": "python",
   "name": "python3"
  },
  "language_info": {
   "codemirror_mode": {
    "name": "ipython",
    "version": 3
   },
   "file_extension": ".py",
   "mimetype": "text/x-python",
   "name": "python",
   "nbconvert_exporter": "python",
   "pygments_lexer": "ipython3",
   "version": "3.10.8"
  }
 },
 "nbformat": 4,
 "nbformat_minor": 4
}
