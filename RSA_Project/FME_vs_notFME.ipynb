{
 "cells": [
  {
   "cell_type": "code",
   "execution_count": 1,
   "id": "f2bd8d2a-82ff-4bd8-98b3-02a4f259635e",
   "metadata": {},
   "outputs": [
    {
     "name": "stdout",
     "output_type": "stream",
     "text": [
      "Varying n, fixed a:\n",
      "n = 1000: NOT_FME time =  0.000004s, FME time = 0.000003s\n",
      "n = 10000: NOT_FME time =  0.000032s, FME time = 0.000002s\n",
      "n = 100000: NOT_FME time =  0.000447s, FME time = 0.000003s\n",
      "n = 1000000: NOT_FME time =  0.006290s, FME time = 0.000004s\n",
      "\n",
      "Varying a, fixed n:\n",
      "a = 10: NOT_FME time = 0.000017s, FME time = 0.000002s\n",
      "a = 100: NOT_FME time = 0.000014s, FME time = 0.000002s\n",
      "a = 1000: NOT_FME time = 0.000053s, FME time = 0.000002s\n",
      "a = 10000: NOT_FME time = 0.000043s, FME time = 0.000002s\n"
     ]
    }
   ],
   "source": [
    "import time\n",
    "\n",
    "def NOT_FME(a, n, m):\n",
    "    result = a ** n % m\n",
    "    return result\n",
    "\n",
    "def FME(a, n, m):\n",
    "    return pow(a, n, m)\n",
    "\n",
    "def measure_time(func, *args):\n",
    "    start_time = time.time()\n",
    "    result = func(*args)\n",
    "    end_time = time.time()\n",
    "    return result, end_time - start_time\n",
    "\n",
    "m = 10**9 + 7\n",
    "fixed_a = 2\n",
    "fixed_n = 1000\n",
    "\n",
    "print(\"Varying n, fixed a:\")\n",
    "for n in[1000, 10000, 100000, 1000000]:\n",
    "    _, time_not_fme = measure_time(NOT_FME, fixed_a, n, m)\n",
    "    _, time_fme = measure_time(FME, fixed_a, n, m)\n",
    "    print(f\"n = {n}: NOT_FME time = {time_not_fme: .6f}s, FME time = {time_fme:.6f}s\")\n",
    "print(\"\\nVarying a, fixed n:\")\n",
    "for a in [10, 100, 1000, 10000]:\n",
    "    _, time_not_fme = measure_time(NOT_FME, a, fixed_n, m)\n",
    "    _, time_fme = measure_time(FME, a, fixed_n, m)\n",
    "    print(f\"a = {a}: NOT_FME time = {time_not_fme:.6f}s, FME time = {time_fme:.6f}s\")"
   ]
  },
  {
   "cell_type": "code",
   "execution_count": null,
   "id": "a3d2a34e-8470-4576-ae73-6fada212f79c",
   "metadata": {},
   "outputs": [],
   "source": []
  }
 ],
 "metadata": {
  "kernelspec": {
   "display_name": "Python 3 (ipykernel)",
   "language": "python",
   "name": "python3"
  },
  "language_info": {
   "codemirror_mode": {
    "name": "ipython",
    "version": 3
   },
   "file_extension": ".py",
   "mimetype": "text/x-python",
   "name": "python",
   "nbconvert_exporter": "python",
   "pygments_lexer": "ipython3",
   "version": "3.10.8"
  }
 },
 "nbformat": 4,
 "nbformat_minor": 5
}
