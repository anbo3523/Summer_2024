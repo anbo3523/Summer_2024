{
 "cells": [
  {
   "cell_type": "code",
   "execution_count": 5,
   "id": "ab44b72f-36ad-415a-9631-ca92aa50f6a7",
   "metadata": {},
   "outputs": [
    {
     "name": "stdout",
     "output_type": "stream",
     "text": [
      "7^644 % 645 = 436\n",
      "11^644 % 645 = 1\n",
      "3^2003 % 99 = 27\n"
     ]
    }
   ],
   "source": [
    "#I am creating an algorithm that uses the method outlined in the book to calculate the mod of a number that includes a base and exponent (b^e)\n",
    "#In book: ALGORITHM 5 Modular Exponentiation.\n",
    "#b = base, n = exponent, and m = modulus\n",
    "def fast_modular_exponentiation(b, n, m): \n",
    "    result = 1\n",
    "    \n",
    "    while n > 0:\n",
    "        #If bit of exponent is odd, multiply base with result. We do this to isolate the power of the base corresponding to the bits that are 1\n",
    "        #ex: 5^13 mod 17. 13 in binary is 1101. (Starting from the right) 1 = include 5^1, 0 = exlude 5^2, 1 = include 5^4, 1 = include 5^8.\n",
    "        if (n % 2) == 1: #Checking if the mod of the number is 1, if so, it must be 1. 0 would return a mod of 0\n",
    "            result = (result * b) % m\n",
    "        \n",
    "        #Square the base\n",
    "        b = (b * b) % m\n",
    "        \n",
    "        #Divide the exponent by 2\n",
    "        n = n // 2\n",
    "    #Once e = 0, we will return the value, which is the answer of the b^e % m     \n",
    "    return result\n",
    "\n",
    "test = [\n",
    "    #using values in problem 25, 26, and 27 to test algorithm\n",
    "    (7, 644, 645), #7^644 % 645\n",
    "    (11, 644, 645), #11^644 % 645\n",
    "    (3, 2003, 99) #3^2003 % 99\n",
    "]\n",
    "\n",
    "for b, n, m in test:\n",
    "    #run algorithm using values in test and print so we can verify it's doing the right thing\n",
    "    print(f\"{b}^{n} % {m} = {fast_modular_exponentiation(b, n, m)}\")"
   ]
  },
  {
   "cell_type": "code",
   "execution_count": null,
   "id": "70286a4f-abb8-47c6-8e8e-047d493d6b68",
   "metadata": {},
   "outputs": [],
   "source": []
  }
 ],
 "metadata": {
  "kernelspec": {
   "display_name": "Python 3 (ipykernel)",
   "language": "python",
   "name": "python3"
  },
  "language_info": {
   "codemirror_mode": {
    "name": "ipython",
    "version": 3
   },
   "file_extension": ".py",
   "mimetype": "text/x-python",
   "name": "python",
   "nbconvert_exporter": "python",
   "pygments_lexer": "ipython3",
   "version": "3.10.8"
  }
 },
 "nbformat": 4,
 "nbformat_minor": 5
}
