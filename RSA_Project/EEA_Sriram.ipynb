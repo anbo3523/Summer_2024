{
 "cells": [
  {
   "cell_type": "code",
   "execution_count": 1,
   "id": "5929c86b-e7f9-4cfb-bed2-ed1e6c970027",
   "metadata": {},
   "outputs": [
    {
     "name": "stdout",
     "output_type": "stream",
     "text": [
      "gcd(26,91) is 13\n",
      "Bezout coefficients are: s = -3 and t = 1\n",
      "This means 13 = -3*26 + 1*91\n",
      "gcd(252,356) is 4\n",
      "Bezout coefficients are: s = -24 and t = 17\n",
      "This means 4 = -24*252 + 17*356\n",
      "gcd(144,89) is 1\n",
      "Bezout coefficients are: s = 34 and t = -55\n",
      "This means 1 = 34*144 + -55*89\n",
      "gcd(1001,100001) is 11\n",
      "Bezout coefficients are: s = -999 and t = 10\n",
      "This means 11 = -999*1001 + 10*100001\n"
     ]
    }
   ],
   "source": [
    "def extended_gcd(a,b):\n",
    "    #Initial values representing (s1, t1) and (s2, t2)\n",
    "    s1, t1 = 1, 0 #represents coefficient for 'a'\n",
    "    s2, t2 = 0, 1 #represents coefficient for 'b'\n",
    "    \n",
    "    #initial values of m and n\n",
    "    m, n = a, b\n",
    "    \n",
    "    #While loop that will run until n becomes 0\n",
    "    while n != 0:\n",
    "        #k is the remainder of the division of m and n\n",
    "        k = m % n\n",
    "        #q is the quotient of the division of m and n\n",
    "        q = m // n\n",
    "        \n",
    "        #update m and n with values we got above\n",
    "        m, n = n, k\n",
    "        \n",
    "        #update s1, t1, s2, t2 using the algorithm\n",
    "        new_s1, new_t1 = s2, t2\n",
    "        new_s2, new_t2 = s1 - q * s2, t1 - q * t2\n",
    "        \n",
    "        #Assign new values to s1, t1, s2, t2\n",
    "        s1, t1, s2, t2 = new_s1, new_t1, new_s2, new_t2\n",
    "        \n",
    "    #The final values of s1 and t1 are the Bezout coefficients\n",
    "    #The values of m after the loop is te gcd of a and b\n",
    "    return m, s1, t1\n",
    "\n",
    "def test_extended_gcd(a, b):\n",
    "    gcd, s, t = extended_gcd(a, b)\n",
    "    print(f\"gcd({a},{b}) is {gcd}\")\n",
    "    print(f\"Bezout coefficients are: s = {s} and t = {t}\")\n",
    "    print(f\"This means {gcd} = {s}*{a} + {t}*{b}\")\n",
    "\n",
    "#testing examples for problem 9 which included problems from book\n",
    "test_extended_gcd(26, 91)\n",
    "test_extended_gcd(252, 356)\n",
    "test_extended_gcd(144, 89)\n",
    "test_extended_gcd(1001, 100001)"
   ]
  },
  {
   "cell_type": "code",
   "execution_count": null,
   "id": "84f9287a-df0a-4350-b6f6-e6b17719e451",
   "metadata": {},
   "outputs": [],
   "source": []
  }
 ],
 "metadata": {
  "kernelspec": {
   "display_name": "Python 3 (ipykernel)",
   "language": "python",
   "name": "python3"
  },
  "language_info": {
   "codemirror_mode": {
    "name": "ipython",
    "version": 3
   },
   "file_extension": ".py",
   "mimetype": "text/x-python",
   "name": "python",
   "nbconvert_exporter": "python",
   "pygments_lexer": "ipython3",
   "version": "3.10.8"
  }
 },
 "nbformat": 4,
 "nbformat_minor": 5
}
